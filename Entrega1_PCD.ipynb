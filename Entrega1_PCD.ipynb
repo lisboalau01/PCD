{
  "nbformat": 4,
  "nbformat_minor": 0,
  "metadata": {
    "colab": {
      "provenance": []
    },
    "kernelspec": {
      "name": "python3",
      "display_name": "Python 3"
    },
    "language_info": {
      "name": "python"
    }
  },
  "cells": [
    {
      "cell_type": "markdown",
      "source": [
        "# Entrega 1 - Projeto PCD\n",
        "\n",
        "Membro 1: Camila Barretto Lins Paes\n",
        "Membro 2: Harrison Caetano Candido\n",
        "Membro 3: Laura Maria Cunha Lisboa\n",
        "\n",
        "email: camila.paes@unifesp.br, h.candido20@unifesp.br, lisboa01@unifesp.br"
      ],
      "metadata": {
        "id": "ry4J2Eg8eQED"
      }
    },
    {
      "cell_type": "markdown",
      "source": [
        "## Instalações"
      ],
      "metadata": {
        "id": "flNAdpIBjISQ"
      }
    },
    {
      "cell_type": "code",
      "source": [
        "ls"
      ],
      "metadata": {
        "colab": {
          "base_uri": "https://localhost:8080/"
        },
        "id": "Fi0clHVeawzk",
        "outputId": "df4f290a-f1c9-41db-90b1-8d0b4b8b97e8"
      },
      "execution_count": null,
      "outputs": [
        {
          "output_type": "stream",
          "name": "stdout",
          "text": [
            "diffusion_sequential.c     paralelo_output_step_0.txt    paralelo_output_step_700.txt\n",
            "\u001b[0m\u001b[01;32mdiffusion_sequential.x\u001b[0m*    paralelo_output_step_100.txt  paralelo_output_step_800.txt\n",
            "\u001b[01;32mdifusao\u001b[0m*                   paralelo_output_step_200.txt  paralelo_output_step_900.txt\n",
            "\u001b[01;32mmain\u001b[0m*                      paralelo_output_step_300.txt  processador.txt\n",
            "main.c                     paralelo_output_step_400.txt  \u001b[01;34msample_data\u001b[0m/\n",
            "output_final.txt           paralelo_output_step_500.txt\n",
            "paralelo_output_final.txt  paralelo_output_step_600.txt\n"
          ]
        }
      ]
    },
    {
      "cell_type": "code",
      "source": [
        "!apt-get update\n",
        "!apt-get install -y gcc"
      ],
      "metadata": {
        "colab": {
          "base_uri": "https://localhost:8080/"
        },
        "id": "LmdsTgl0a4o5",
        "outputId": "d7c2f301-8262-4693-b66f-baca21a7ff3c"
      },
      "execution_count": null,
      "outputs": [
        {
          "output_type": "stream",
          "name": "stdout",
          "text": [
            "\r0% [Working]\r            \rHit:1 https://cloud.r-project.org/bin/linux/ubuntu jammy-cran40/ InRelease\n",
            "\r0% [Connecting to archive.ubuntu.com (91.189.91.83)] [Connecting to security.ubuntu.com (91.189.91.8\r                                                                                                    \rHit:2 https://developer.download.nvidia.com/compute/cuda/repos/ubuntu2204/x86_64  InRelease\n",
            "\r0% [Connecting to archive.ubuntu.com (91.189.91.83)] [Connecting to security.ubuntu.com (91.189.91.8\r                                                                                                    \rGet:3 http://security.ubuntu.com/ubuntu jammy-security InRelease [129 kB]\n",
            "Hit:4 http://archive.ubuntu.com/ubuntu jammy InRelease\n",
            "Hit:5 https://r2u.stat.illinois.edu/ubuntu jammy InRelease\n",
            "Get:6 http://archive.ubuntu.com/ubuntu jammy-updates InRelease [128 kB]\n",
            "Hit:7 http://archive.ubuntu.com/ubuntu jammy-backports InRelease\n",
            "Hit:8 https://ppa.launchpadcontent.net/deadsnakes/ppa/ubuntu jammy InRelease\n",
            "Hit:9 https://ppa.launchpadcontent.net/graphics-drivers/ppa/ubuntu jammy InRelease\n",
            "Hit:10 https://ppa.launchpadcontent.net/ubuntugis/ppa/ubuntu jammy InRelease\n",
            "Fetched 257 kB in 1s (199 kB/s)\n",
            "Reading package lists... Done\n",
            "W: Skipping acquire of configured file 'main/source/Sources' as repository 'https://r2u.stat.illinois.edu/ubuntu jammy InRelease' does not seem to provide it (sources.list entry misspelt?)\n",
            "Reading package lists... Done\n",
            "Building dependency tree... Done\n",
            "Reading state information... Done\n",
            "gcc is already the newest version (4:11.2.0-1ubuntu1).\n",
            "0 upgraded, 0 newly installed, 0 to remove and 59 not upgraded.\n"
          ]
        }
      ]
    },
    {
      "cell_type": "code",
      "source": [
        "!apt-get install libgomp1"
      ],
      "metadata": {
        "id": "O2VvOoFKcTWl",
        "colab": {
          "base_uri": "https://localhost:8080/"
        },
        "outputId": "5948082a-16b3-41e7-fcaa-c78ff407fa58"
      },
      "execution_count": null,
      "outputs": [
        {
          "output_type": "stream",
          "name": "stdout",
          "text": [
            "Reading package lists... Done\n",
            "Building dependency tree... Done\n",
            "Reading state information... Done\n",
            "libgomp1 is already the newest version (12.3.0-1ubuntu1~22.04).\n",
            "0 upgraded, 0 newly installed, 0 to remove and 59 not upgraded.\n"
          ]
        }
      ]
    },
    {
      "cell_type": "code",
      "source": [
        "!more /proc/cpuinfo &> processador.txt\n",
        "!more processador.txt | grep model"
      ],
      "metadata": {
        "colab": {
          "base_uri": "https://localhost:8080/"
        },
        "id": "8Kw0c32cFXoV",
        "outputId": "3b6f29ef-5519-4b55-f748-b048e72427bc"
      },
      "execution_count": null,
      "outputs": [
        {
          "output_type": "stream",
          "name": "stdout",
          "text": [
            "model\t\t: 79\n",
            "model name\t: Intel(R) Xeon(R) CPU @ 2.20GHz\n",
            "model\t\t: 79\n",
            "model name\t: Intel(R) Xeon(R) CPU @ 2.20GHz\n"
          ]
        }
      ]
    },
    {
      "cell_type": "markdown",
      "source": [
        "## Código"
      ],
      "metadata": {
        "id": "9Yfi6JCYjD_C"
      }
    },
    {
      "cell_type": "code",
      "source": [
        "%%writefile main.c\n",
        "\n",
        "#include <stdio.h>\n",
        "#include <stdlib.h>\n",
        "#include <omp.h>\n",
        "\n",
        "#define N 600         // Dimensão da grade\n",
        "#define TIME_STEPS 1000 // Número de passos de tempo\n",
        "#define D 0.1        // Coeficiente de difusão aumentado\n",
        "#define DT 0.01        // Passo de tempo aumentado\n",
        "#define DX 1.0        // Distância entre pontos na grade\n",
        "#define NUM_THREADS 16\n",
        "\n",
        "void initialize_grid(double grid[N][N]) {\n",
        "    for (int i = 0; i < N; i++) {\n",
        "        for (int j = 0; j < N; j++) {\n",
        "            grid[i][j] = 0.0;\n",
        "        }\n",
        "    }\n",
        "    int center = N / 2;\n",
        "    grid[center][center] = 100.0; // Alta concentração no centro\n",
        "}\n",
        "\n",
        "void save_grid(double grid[N][N], const char* filename) {\n",
        "    FILE* file = fopen(filename, \"w\");\n",
        "    for (int i = 0; i < N; i++) {\n",
        "        for (int j = 0; j < N; j++) {\n",
        "            fprintf(file, \"%.2f \", grid[i][j]);\n",
        "        }\n",
        "        fprintf(file, \"\\n\");\n",
        "    }\n",
        "    fclose(file);\n",
        "}\n",
        "\n",
        "int main() {\n",
        "    double grid[N][N], new_grid[N][N];\n",
        "    omp_set_num_threads(NUM_THREADS);\n",
        "    initialize_grid(grid);\n",
        "\n",
        "    double alpha = D * DT / (DX * DX);\n",
        "    if (alpha > 0.25) {\n",
        "        printf(\"Erro: Fator alpha instável (%.2f).\\n\", alpha);\n",
        "        return -1;\n",
        "    }\n",
        "\n",
        "    double start_time = omp_get_wtime();\n",
        "\n",
        "    for (int t = 0; t < TIME_STEPS; t++) {\n",
        "        #pragma omp parallel for collapse(2)\n",
        "        for (int i = 1; i < N - 1; i++) {\n",
        "            for (int j = 1; j < N - 1; j++) {\n",
        "                new_grid[i][j] = grid[i][j] + alpha * (\n",
        "                    grid[i+1][j] + grid[i-1][j] +\n",
        "                    grid[i][j+1] + grid[i][j-1] -\n",
        "                    4 * grid[i][j]\n",
        "                );\n",
        "            }\n",
        "        }\n",
        "\n",
        "        #pragma omp parallel for collapse(2)\n",
        "        for (int i = 1; i < N - 1; i++) {\n",
        "            for (int j = 1; j < N - 1; j++) {\n",
        "                grid[i][j] = new_grid[i][j];\n",
        "            }\n",
        "        }\n",
        "\n",
        "        // Condições de contorno: bordas fixas\n",
        "        #pragma omp parallel for\n",
        "        for (int i = 0; i < N; i++) {\n",
        "            grid[i][0] = grid[i][N-1] = 0.0;\n",
        "            grid[0][i] = grid[N-1][i] = 0.0;\n",
        "        }\n",
        "\n",
        "        if (t % 100 == 0) { // Salvar a cada 100 iterações\n",
        "            char filename[50];\n",
        "            sprintf(filename, \"paralelo_output_step_%d.txt\", t);\n",
        "            save_grid(grid, filename);\n",
        "        }\n",
        "    }\n",
        "\n",
        "    double end_time = omp_get_wtime();\n",
        "    printf(\"Simulação finalizada em %.2f segundos.\\n\", end_time - start_time);\n",
        "    save_grid(grid, \"paralelo_output_final.txt\");\n",
        "    return 0;\n",
        "}\n"
      ],
      "metadata": {
        "colab": {
          "base_uri": "https://localhost:8080/"
        },
        "id": "xmhaMPyZbAt1",
        "outputId": "46cea7de-0edf-40eb-de3f-ab8ed413c385"
      },
      "execution_count": null,
      "outputs": [
        {
          "output_type": "stream",
          "name": "stdout",
          "text": [
            "Overwriting main.c\n"
          ]
        }
      ]
    },
    {
      "cell_type": "code",
      "source": [
        "%%shell\n",
        "gcc -fopenmp main.c -o main\n",
        "./main"
      ],
      "metadata": {
        "id": "_5IVcVcxcwQD",
        "colab": {
          "base_uri": "https://localhost:8080/"
        },
        "outputId": "d0fd5bf7-7b10-4b54-ff84-f54da2dd41c9"
      },
      "execution_count": null,
      "outputs": [
        {
          "output_type": "stream",
          "name": "stdout",
          "text": [
            "Simulação finalizada em 6.50 segundos.\n"
          ]
        },
        {
          "output_type": "execute_result",
          "data": {
            "text/plain": []
          },
          "metadata": {},
          "execution_count": 130
        }
      ]
    },
    {
      "cell_type": "markdown",
      "source": [
        "#### Gráfico"
      ],
      "metadata": {
        "id": "xco37td3jNVY"
      }
    },
    {
      "cell_type": "code",
      "source": [
        "import numpy as np\n",
        "import matplotlib.pyplot as plt\n",
        "\n",
        "data = np.loadtxt('paralelo_output_final.txt')\n",
        "\n",
        "plt.figure(figsize=(8, 6))\n",
        "plt.imshow(data, cmap='hot', interpolation='nearest')\n",
        "plt.colorbar(label='Concentração')\n",
        "plt.title('Distribuição de Contaminantes (Simulação Paralela)')\n",
        "plt.xlabel('X')\n",
        "plt.ylabel('Y')\n",
        "plt.show()\n"
      ],
      "metadata": {
        "colab": {
          "base_uri": "https://localhost:8080/",
          "height": 564
        },
        "id": "rbVc2sA1RAqM",
        "outputId": "11b8d980-375c-434d-d99b-e971a867b07f"
      },
      "execution_count": null,
      "outputs": [
        {
          "output_type": "display_data",
          "data": {
            "text/plain": [
              "<Figure size 800x600 with 2 Axes>"
            ],
            "image/png": "[encoded data removed]"
          },
          "metadata": {}
        }
      ]
    }
  ]
}