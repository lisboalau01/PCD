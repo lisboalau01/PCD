{
  "nbformat": 4,
  "nbformat_minor": 0,
  "metadata": {
    "colab": {
      "provenance": [],
      "gpuType": "T4",
      "include_colab_link": true
    },
    "kernelspec": {
      "name": "python3",
      "display_name": "Python 3"
    },
    "language_info": {
      "name": "python"
    },
    "accelerator": "GPU"
  },
  "cells": [
    {
      "cell_type": "markdown",
      "metadata": {
        "id": "view-in-github",
        "colab_type": "text"
      },
      "source": [
        "<a href=\"https://colab.research.google.com/github/HarrisonCaetanoCandido/Simulac-ao-e-An-alise-de-Modelos-de-Difus-ao-de-Contaminantes-em-Agua/blob/main/Entrega2_PCD.ipynb\" target=\"_parent\"><img src=\"https://colab.research.google.com/assets/colab-badge.svg\" alt=\"Open In Colab\"/></a>"
      ]
    },
    {
      "cell_type": "markdown",
      "source": [
        "# Entrega 2 - Projeto PCD\n",
        "\n",
        "Membro 1: Camila Barretto Lins Paes\n",
        "Membro 2: Harrison Caetano Candido\n",
        "Membro 3: Laura Maria Cunha Lisboa\n",
        "\n",
        "email: camila.paes@unifesp.br, h.candido20@unifesp.br, lisboa01@unifesp.br"
      ],
      "metadata": {
        "id": "ry4J2Eg8eQED"
      }
    },
    {
      "cell_type": "markdown",
      "source": [
        "## Instalações"
      ],
      "metadata": {
        "id": "flNAdpIBjISQ"
      }
    },
    {
      "cell_type": "code",
      "source": [
        "ls"
      ],
      "metadata": {
        "colab": {
          "base_uri": "https://localhost:8080/"
        },
        "id": "Fi0clHVeawzk",
        "outputId": "994159e9-b60f-4ca5-a4e5-355dab03b573"
      },
      "execution_count": null,
      "outputs": [
        {
          "output_type": "stream",
          "name": "stdout",
          "text": [
            "\u001b[0m\u001b[01;34mcad4u\u001b[0m/                    cuda_output_step_700.txt      paralelo_output_step_400.txt\n",
            "code.cu                   cuda_output_step_800.txt      paralelo_output_step_500.txt\n",
            "\u001b[01;32mcode.out\u001b[0m*                 cuda_output_step_900.txt      paralelo_output_step_600.txt\n",
            "cuda_output_final.txt     \u001b[01;32mmain\u001b[0m*                         paralelo_output_step_700.txt\n",
            "cuda_output_step_0.txt    main.c                        paralelo_output_step_800.txt\n",
            "cuda_output_step_100.txt  main.cu                       paralelo_output_step_900.txt\n",
            "cuda_output_step_200.txt  paralelo_output_final.txt     plugin.py\n",
            "cuda_output_step_300.txt  paralelo_output_step_0.txt    processador.txt\n",
            "cuda_output_step_400.txt  paralelo_output_step_100.txt  \u001b[01;34m__pycache__\u001b[0m/\n",
            "cuda_output_step_500.txt  paralelo_output_step_200.txt  \u001b[01;34msample_data\u001b[0m/\n",
            "cuda_output_step_600.txt  paralelo_output_step_300.txt\n"
          ]
        }
      ]
    },
    {
      "cell_type": "code",
      "source": [
        "!apt-get update\n",
        "!apt-get install -y gcc"
      ],
      "metadata": {
        "colab": {
          "base_uri": "https://localhost:8080/"
        },
        "id": "LmdsTgl0a4o5",
        "outputId": "2b4ccf6e-fdc7-435c-e63a-d92b37ef7500"
      },
      "execution_count": null,
      "outputs": [
        {
          "output_type": "stream",
          "name": "stdout",
          "text": [
            "\r0% [Working]\r            \rHit:1 https://cloud.r-project.org/bin/linux/ubuntu jammy-cran40/ InRelease\n",
            "Hit:2 https://developer.download.nvidia.com/compute/cuda/repos/ubuntu2204/x86_64  InRelease\n",
            "Get:3 http://security.ubuntu.com/ubuntu jammy-security InRelease [129 kB]\n",
            "Hit:4 http://archive.ubuntu.com/ubuntu jammy InRelease\n",
            "Hit:5 https://r2u.stat.illinois.edu/ubuntu jammy InRelease\n",
            "Get:6 http://archive.ubuntu.com/ubuntu jammy-updates InRelease [128 kB]\n",
            "Hit:7 https://ppa.launchpadcontent.net/deadsnakes/ppa/ubuntu jammy InRelease\n",
            "Hit:8 https://ppa.launchpadcontent.net/graphics-drivers/ppa/ubuntu jammy InRelease\n",
            "Hit:9 https://ppa.launchpadcontent.net/ubuntugis/ppa/ubuntu jammy InRelease\n",
            "Get:10 http://archive.ubuntu.com/ubuntu jammy-backports InRelease [127 kB]\n",
            "Fetched 384 kB in 1s (298 kB/s)\n",
            "Reading package lists... Done\n",
            "W: Skipping acquire of configured file 'main/source/Sources' as repository 'https://r2u.stat.illinois.edu/ubuntu jammy InRelease' does not seem to provide it (sources.list entry misspelt?)\n",
            "Reading package lists... Done\n",
            "Building dependency tree... Done\n",
            "Reading state information... Done\n",
            "gcc is already the newest version (4:11.2.0-1ubuntu1).\n",
            "0 upgraded, 0 newly installed, 0 to remove and 50 not upgraded.\n"
          ]
        }
      ]
    },
    {
      "cell_type": "code",
      "source": [
        "!apt-get install libgomp1"
      ],
      "metadata": {
        "id": "O2VvOoFKcTWl",
        "colab": {
          "base_uri": "https://localhost:8080/"
        },
        "outputId": "195aeb13-1e65-48a2-a250-11f7d6a21b9a"
      },
      "execution_count": null,
      "outputs": [
        {
          "output_type": "stream",
          "name": "stdout",
          "text": [
            "Reading package lists... Done\n",
            "Building dependency tree... Done\n",
            "Reading state information... Done\n",
            "libgomp1 is already the newest version (12.3.0-1ubuntu1~22.04).\n",
            "0 upgraded, 0 newly installed, 0 to remove and 50 not upgraded.\n"
          ]
        }
      ]
    },
    {
      "cell_type": "code",
      "source": [
        "!more /proc/cpuinfo &> processador.txt\n",
        "!more processador.txt | grep model"
      ],
      "metadata": {
        "colab": {
          "base_uri": "https://localhost:8080/"
        },
        "id": "8Kw0c32cFXoV",
        "outputId": "bbee3266-0cde-4954-fa2d-5a1ef7e67fbc"
      },
      "execution_count": null,
      "outputs": [
        {
          "output_type": "stream",
          "name": "stdout",
          "text": [
            "model\t\t: 79\n",
            "model name\t: Intel(R) Xeon(R) CPU @ 2.20GHz\n",
            "model\t\t: 79\n",
            "model name\t: Intel(R) Xeon(R) CPU @ 2.20GHz\n"
          ]
        }
      ]
    },
    {
      "cell_type": "markdown",
      "source": [
        "## Código"
      ],
      "metadata": {
        "id": "9Yfi6JCYjD_C"
      }
    },
    {
      "cell_type": "code",
      "source": [
        "%%writefile main.c\n",
        "\n",
        "#include <stdio.h>\n",
        "#include <stdlib.h>\n",
        "#include <omp.h>\n",
        "\n",
        "#define N 600         // Dimensão da grade\n",
        "#define TIME_STEPS 1000 // Número de passos de tempo\n",
        "#define D 0.1        // Coeficiente de difusão aumentado\n",
        "#define DT 0.01        // Passo de tempo aumentado\n",
        "#define DX 1.0        // Distância entre pontos na grade\n",
        "#define NUM_THREADS 1\n",
        "\n",
        "void initialize_grid(double grid[N][N]) {\n",
        "    for (int i = 0; i < N; i++) {\n",
        "        for (int j = 0; j < N; j++) {\n",
        "            grid[i][j] = 0.0;\n",
        "        }\n",
        "    }\n",
        "    int center = N / 2;\n",
        "    grid[center][center] = 100.0; // Alta concentração no centro\n",
        "}\n",
        "\n",
        "void save_grid(double grid[N][N], const char* filename) {\n",
        "    FILE* file = fopen(filename, \"w\");\n",
        "    for (int i = 0; i < N; i++) {\n",
        "        for (int j = 0; j < N; j++) {\n",
        "            fprintf(file, \"%.2f \", grid[i][j]);\n",
        "        }\n",
        "        fprintf(file, \"\\n\");\n",
        "    }\n",
        "    fclose(file);\n",
        "}\n",
        "\n",
        "int main() {\n",
        "    double grid[N][N], new_grid[N][N];\n",
        "    omp_set_num_threads(NUM_THREADS);\n",
        "    initialize_grid(grid);\n",
        "\n",
        "    double alpha = D * DT / (DX * DX);\n",
        "    if (alpha > 0.25) {\n",
        "        printf(\"Erro: Fator alpha instável (%.2f).\\n\", alpha);\n",
        "        return -1;\n",
        "    }\n",
        "\n",
        "    double start_time = omp_get_wtime();\n",
        "\n",
        "    for (int t = 0; t < TIME_STEPS; t++) {\n",
        "        #pragma omp parallel for collapse(2)\n",
        "        for (int i = 1; i < N - 1; i++) {\n",
        "            for (int j = 1; j < N - 1; j++) {\n",
        "                new_grid[i][j] = grid[i][j] + alpha * (\n",
        "                    grid[i+1][j] + grid[i-1][j] +\n",
        "                    grid[i][j+1] + grid[i][j-1] -\n",
        "                    4 * grid[i][j]\n",
        "                );\n",
        "            }\n",
        "        }\n",
        "\n",
        "        #pragma omp parallel for collapse(2)\n",
        "        for (int i = 1; i < N - 1; i++) {\n",
        "            for (int j = 1; j < N - 1; j++) {\n",
        "                grid[i][j] = new_grid[i][j];\n",
        "            }\n",
        "        }\n",
        "\n",
        "        // Condições de contorno: bordas fixas\n",
        "        #pragma omp parallel for\n",
        "        for (int i = 0; i < N; i++) {\n",
        "            grid[i][0] = grid[i][N-1] = 0.0;\n",
        "            grid[0][i] = grid[N-1][i] = 0.0;\n",
        "        }\n",
        "\n",
        "        if (t % 100 == 0) { // Salvar a cada 100 iterações\n",
        "            char filename[50];\n",
        "            sprintf(filename, \"paralelo_output_step_%d.txt\", t);\n",
        "            save_grid(grid, filename);\n",
        "        }\n",
        "    }\n",
        "\n",
        "    double end_time = omp_get_wtime();\n",
        "    printf(\"Simulação finalizada em %.2f segundos.\\n\", end_time - start_time);\n",
        "    save_grid(grid, \"paralelo_output_final.txt\");\n",
        "    return 0;\n",
        "}\n"
      ],
      "metadata": {
        "colab": {
          "base_uri": "https://localhost:8080/"
        },
        "id": "xmhaMPyZbAt1",
        "outputId": "c353d29d-b62f-4301-e1d5-aa20f37c7227"
      },
      "execution_count": null,
      "outputs": [
        {
          "output_type": "stream",
          "name": "stdout",
          "text": [
            "Overwriting main.c\n"
          ]
        }
      ]
    },
    {
      "cell_type": "code",
      "source": [
        "%%shell\n",
        "gcc -fopenmp main.c -o main\n",
        "./main"
      ],
      "metadata": {
        "id": "_5IVcVcxcwQD",
        "colab": {
          "base_uri": "https://localhost:8080/"
        },
        "outputId": "1b173ee8-4a9a-474b-8914-ee99b78850dc"
      },
      "execution_count": null,
      "outputs": [
        {
          "output_type": "stream",
          "name": "stdout",
          "text": [
            "Simulação finalizada em 5.75 segundos.\n"
          ]
        },
        {
          "output_type": "execute_result",
          "data": {
            "text/plain": []
          },
          "metadata": {},
          "execution_count": 40
        }
      ]
    },
    {
      "cell_type": "markdown",
      "source": [
        "#### Gráfico"
      ],
      "metadata": {
        "id": "xco37td3jNVY"
      }
    },
    {
      "cell_type": "code",
      "source": [
        "import numpy as np\n",
        "import matplotlib.pyplot as plt\n",
        "\n",
        "data = np.loadtxt('paralelo_output_final.txt')\n",
        "\n",
        "data = data[250:-250, 250:-250]\n",
        "\n",
        "plt.figure(figsize=(8, 6))\n",
        "plt.imshow(data, cmap='hot', interpolation='nearest')\n",
        "plt.colorbar(label='Concentração')\n",
        "plt.title('OPENMP | Distribuição de Contaminantes (Simulação Paralela)')\n",
        "plt.xlabel('X')\n",
        "plt.ylabel('Y')\n",
        "plt.show()\n"
      ],
      "metadata": {
        "colab": {
          "base_uri": "https://localhost:8080/",
          "height": 564
        },
        "id": "rbVc2sA1RAqM",
        "outputId": "153aab27-04f6-43f3-f779-dc9f8b64b40f"
      },
      "execution_count": null,
      "outputs": [
        {
          "output_type": "display_data",
          "data": {
            "text/plain": [
              "<Figure size 800x600 with 2 Axes>"
            ],
            "image/png": "[encoded data removed]"
          },
          "metadata": {}
        }
      ]
    },
    {
      "cell_type": "markdown",
      "source": [
        "## **Configurando o Google Lab (colab)**\n",
        "Executar o comando abaixo para permitir a execução de códigos de maneira mais simplificada."
      ],
      "metadata": {
        "id": "WQfRxYrpcP-A"
      }
    },
    {
      "cell_type": "code",
      "source": [
        "!pip install git+https://github.com/lesc-ufv/cad4u.git &> /dev/null\n",
        "!git clone https://github.com/lesc-ufv/cad4u &> /dev/null\n",
        "%load_ext plugin"
      ],
      "metadata": {
        "colab": {
          "base_uri": "https://localhost:8080/"
        },
        "id": "QdzTfGVicOhj",
        "outputId": "7dc52085-8223-4bc3-e885-8b543ca30a26"
      },
      "execution_count": null,
      "outputs": [
        {
          "output_type": "stream",
          "name": "stdout",
          "text": [
            "The plugin extension is already loaded. To reload it, use:\n",
            "  %reload_ext plugin\n"
          ]
        }
      ]
    },
    {
      "cell_type": "code",
      "source": [
        "!nvidia-smi"
      ],
      "metadata": {
        "colab": {
          "base_uri": "https://localhost:8080/"
        },
        "id": "H-LBbR7Pca9u",
        "outputId": "91fa668c-29a3-4cfd-e614-a4f41d7de493"
      },
      "execution_count": null,
      "outputs": [
        {
          "output_type": "stream",
          "name": "stdout",
          "text": [
            "Fri Dec  6 01:15:06 2024       \n",
            "+---------------------------------------------------------------------------------------+\n",
            "| NVIDIA-SMI 535.104.05             Driver Version: 535.104.05   CUDA Version: 12.2     |\n",
            "|-----------------------------------------+----------------------+----------------------+\n",
            "| GPU  Name                 Persistence-M | Bus-Id        Disp.A | Volatile Uncorr. ECC |\n",
            "| Fan  Temp   Perf          Pwr:Usage/Cap |         Memory-Usage | GPU-Util  Compute M. |\n",
            "|                                         |                      |               MIG M. |\n",
            "|=========================================+======================+======================|\n",
            "|   0  Tesla T4                       Off | 00000000:00:04.0 Off |                    0 |\n",
            "| N/A   34C    P8               9W /  70W |      0MiB / 15360MiB |      0%      Default |\n",
            "|                                         |                      |                  N/A |\n",
            "+-----------------------------------------+----------------------+----------------------+\n",
            "                                                                                         \n",
            "+---------------------------------------------------------------------------------------+\n",
            "| Processes:                                                                            |\n",
            "|  GPU   GI   CI        PID   Type   Process name                            GPU Memory |\n",
            "|        ID   ID                                                             Usage      |\n",
            "|=======================================================================================|\n",
            "|  No running processes found                                                           |\n",
            "+---------------------------------------------------------------------------------------+\n"
          ]
        }
      ]
    },
    {
      "cell_type": "markdown",
      "source": [
        "4. Implementação com CUDA (Simulação em GPU)\n",
        "Implementar a simulação em CUDA, onde cada célula da grade é processada por uma thread independente na GPU, utilizando um\n",
        "esquema de diferenças finitas para calcular o laplaciano de (C).\n",
        "A execução em GPU permite simular uma grade maior e observar o ganho de desempenho com CUDA.\n",
        "**Entrega 2:** demonstrar o código em CUDA e apresentar avaliação de desempenho com relação às versões anteriores."
      ],
      "metadata": {
        "id": "S_pj2zrzaLrm"
      }
    },
    {
      "cell_type": "code",
      "source": [
        "%%gpu\n",
        "#include <stdio.h>\n",
        "#include <stdlib.h>\n",
        "#include <cuda.h>\n",
        "\n",
        "#define N 600         // Dimensão da grade\n",
        "#define TIME_STEPS 1000 // Número de passos de tempo\n",
        "#define D 0.1         // Coeficiente de difusão\n",
        "#define DT 0.01       // Passo de tempo\n",
        "#define DX 1.0        // Distância entre pontos na grade\n",
        "#define THREADS_PER_BLOCK 32\n",
        "\n",
        "__global__ void update_grid(double* d_grid, double* d_new_grid, double alpha, int n) {\n",
        "    int i = blockIdx.y * blockDim.y + threadIdx.y;\n",
        "    int j = blockIdx.x * blockDim.x + threadIdx.x;\n",
        "\n",
        "    if (i > 0 && i < n - 1 && j > 0 && j < n - 1) {\n",
        "        d_new_grid[i * n + j] = d_grid[i * n + j] + alpha * (\n",
        "            d_grid[(i + 1) * n + j] + d_grid[(i - 1) * n + j] +\n",
        "            d_grid[i * n + j + 1] + d_grid[i * n + j - 1] -\n",
        "            4 * d_grid[i * n + j]\n",
        "        );\n",
        "    }\n",
        "}\n",
        "\n",
        "__global__ void apply_boundaries(double* d_grid, int n) {\n",
        "    int idx = blockIdx.x * blockDim.x + threadIdx.x;\n",
        "\n",
        "    if (idx < n) {\n",
        "        d_grid[idx] = 0.0;            // Linha superior\n",
        "        d_grid[(n - 1) * n + idx] = 0.0; // Linha inferior\n",
        "        d_grid[idx * n] = 0.0;            // Coluna esquerda\n",
        "        d_grid[idx * n + n - 1] = 0.0;    // Coluna direita\n",
        "    }\n",
        "}\n",
        "\n",
        "void initialize_grid(double* grid, int n) {\n",
        "    for (int i = 0; i < n * n; i++) {\n",
        "        grid[i] = 0.0;\n",
        "    }\n",
        "    int center = n / 2;\n",
        "    grid[center * n + center] = 100.0; // Alta concentração no centro\n",
        "}\n",
        "\n",
        "void save_grid(double* grid, const char* filename, int n) {\n",
        "    FILE* file = fopen(filename, \"w\");\n",
        "    for (int i = 0; i < n; i++) {\n",
        "        for (int j = 0; j < n; j++) {\n",
        "            fprintf(file, \"%.2f \", grid[i * n + j]);\n",
        "        }\n",
        "        fprintf(file, \"\\n\");\n",
        "    }\n",
        "    fclose(file);\n",
        "}\n",
        "\n",
        "int main() {\n",
        "    double* grid = (double*)malloc(N * N * sizeof(double));\n",
        "    double* d_grid, *d_new_grid;\n",
        "\n",
        "    cudaMalloc(&d_grid, N * N * sizeof(double));\n",
        "    cudaMalloc(&d_new_grid, N * N * sizeof(double));\n",
        "\n",
        "    initialize_grid(grid, N);\n",
        "\n",
        "    cudaMemcpy(d_grid, grid, N * N * sizeof(double), cudaMemcpyHostToDevice);\n",
        "\n",
        "    double alpha = D * DT / (DX * DX);\n",
        "    if (alpha > 0.25) {\n",
        "        printf(\"Erro: Fator alpha instável (%.2f).\\n\", alpha);\n",
        "        free(grid);\n",
        "        cudaFree(d_grid);\n",
        "        cudaFree(d_new_grid);\n",
        "        return -1;\n",
        "    }\n",
        "\n",
        "    dim3 threadsPerBlock(THREADS_PER_BLOCK, THREADS_PER_BLOCK);\n",
        "    dim3 blocksPerGrid((N + THREADS_PER_BLOCK - 1) / THREADS_PER_BLOCK,\n",
        "                       (N + THREADS_PER_BLOCK - 1) / THREADS_PER_BLOCK);\n",
        "\n",
        "    double start_time = clock();\n",
        "\n",
        "    for (int t = 0; t < TIME_STEPS; t++) {\n",
        "        update_grid<<<blocksPerGrid, threadsPerBlock>>>(d_grid, d_new_grid, alpha, N);\n",
        "        cudaMemcpy(d_grid, d_new_grid, N * N * sizeof(double), cudaMemcpyDeviceToDevice);\n",
        "        apply_boundaries<<<(N + THREADS_PER_BLOCK - 1) / THREADS_PER_BLOCK, THREADS_PER_BLOCK>>>(d_grid, N);\n",
        "\n",
        "        if (t % 100 == 0) { // Salvar a cada 100 iterações\n",
        "            cudaMemcpy(grid, d_grid, N * N * sizeof(double), cudaMemcpyDeviceToHost);\n",
        "            char filename[50];\n",
        "            sprintf(filename, \"cuda_output_step_%d.txt\", t);\n",
        "            save_grid(grid, filename, N);\n",
        "        }\n",
        "    }\n",
        "\n",
        "    double end_time = clock();\n",
        "    printf(\"Simulação finalizada em %.2f segundos.\\n\", (end_time - start_time) / CLOCKS_PER_SEC);\n",
        "\n",
        "    cudaMemcpy(grid, d_grid, N * N * sizeof(double), cudaMemcpyDeviceToHost);\n",
        "    save_grid(grid, \"cuda_output_final.txt\", N);\n",
        "\n",
        "    free(grid);\n",
        "    cudaFree(d_grid);\n",
        "    cudaFree(d_new_grid);\n",
        "    return 0;\n",
        "}"
      ],
      "metadata": {
        "colab": {
          "base_uri": "https://localhost:8080/"
        },
        "id": "TXJkxr3HaV0_",
        "outputId": "3eafec5f-9fe4-42b7-ef4a-8f104bae370a"
      },
      "execution_count": null,
      "outputs": [
        {
          "output_type": "stream",
          "name": "stdout",
          "text": [
            "Simulação finalizada em 1.30 segundos.\n",
            "\n"
          ]
        }
      ]
    },
    {
      "cell_type": "code",
      "source": [
        "import numpy as np\n",
        "import matplotlib.pyplot as plt\n",
        "\n",
        "data = np.loadtxt('cuda_output_final.txt')\n",
        "\n",
        "data = data[250:-250, 250:-250]\n",
        "\n",
        "plt.figure(figsize=(8, 6))\n",
        "plt.imshow(data, cmap='hot', interpolation='nearest')\n",
        "plt.colorbar(label='Concentração')\n",
        "plt.title('CUDA | Distribuição de Contaminantes (Simulação Paralela)')\n",
        "plt.xlabel('X')\n",
        "plt.ylabel('Y')\n",
        "plt.show()\n"
      ],
      "metadata": {
        "colab": {
          "base_uri": "https://localhost:8080/",
          "height": 564
        },
        "id": "gjbSNhOZdUco",
        "outputId": "c49c63d0-3646-4b71-a57c-c23fb86c61be"
      },
      "execution_count": null,
      "outputs": [
        {
          "output_type": "display_data",
          "data": {
            "text/plain": [
              "<Figure size 800x600 with 2 Axes>"
            ],
            "image/png": "[encoded data removed]"
          },
          "metadata": {}
        }
      ]
    }
  ]
}